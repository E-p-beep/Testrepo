{
 "cells": [
  {
   "cell_type": "markdown",
   "id": "ff363ff1-068d-4a2d-9bee-19cd56885c95",
   "metadata": {},
   "source": [
    "Data Science Tools and Ecosystem\n"
   ]
  },
  {
   "cell_type": "markdown",
   "id": "43736b30-39d7-498d-88db-ce76bb8094ed",
   "metadata": {},
   "source": [
    "In this notebook, Data Science tools and ecosystem are summarized"
   ]
  },
  {
   "cell_type": "markdown",
   "id": "b0eb53a8-92bc-40eb-b79d-e6135a33e2eb",
   "metadata": {},
   "source": [
    "Some of the most popular tools that data scientist use are:"
   ]
  },
  {
   "cell_type": "markdown",
   "id": "60744870-8b97-4aff-a003-d2a3b1bcfddc",
   "metadata": {},
   "source": [
    "* Python\n",
    "* R\n",
    "* Java script"
   ]
  },
  {
   "cell_type": "markdown",
   "id": "927e0162-480f-47a1-bb3b-513a8ee8483b",
   "metadata": {},
   "source": [
    "Some of the commonly used libraries in data science are:\n",
    "* Keras\n",
    "* Num py\n",
    "* Panda"
   ]
  },
  {
   "cell_type": "markdown",
   "id": "00f2d33d-aab8-47cc-b077-9342205dd398",
   "metadata": {},
   "source": [
    "| Open Source Tools | \n",
    " ___________________\n",
    "|Jupyter Lab        |\n",
    " ___________________\n",
    "| R studio          |\n",
    " ___________________\n",
    "| Git Lab           |\n",
    " ___________________"
   ]
  },
  {
   "cell_type": "markdown",
   "id": "592d7437-e589-4de3-a576-25a05a8b1e57",
   "metadata": {},
   "source": [
    "Below are few example of evaluating arithmetic expression in python"
   ]
  },
  {
   "cell_type": "code",
   "execution_count": 5,
   "id": "a030ff6e-b409-49f6-b5fb-f9f119f976b1",
   "metadata": {},
   "outputs": [
    {
     "data": {
      "text/plain": [
       "17"
      ]
     },
     "execution_count": 5,
     "metadata": {},
     "output_type": "execute_result"
    }
   ],
   "source": [
    "(3*4)+5"
   ]
  },
  {
   "cell_type": "code",
   "execution_count": 7,
   "id": "5d8e6160-e630-4869-907c-4d40d17666f3",
   "metadata": {},
   "outputs": [
    {
     "data": {
      "text/plain": [
       "3.3333333333333335"
      ]
     },
     "execution_count": 7,
     "metadata": {},
     "output_type": "execute_result"
    }
   ],
   "source": [
    "200/60"
   ]
  },
  {
   "cell_type": "markdown",
   "id": "b669b5e7-c0ec-49bb-9b88-29e07449b982",
   "metadata": {},
   "source": [
    "Objectives:"
   ]
  },
  {
   "cell_type": "markdown",
   "id": "4013fae6-d1f4-4620-8238-7684dfce62a7",
   "metadata": {},
   "source": [
    "* list the various libraries used in data science"
   ]
  },
  {
   "cell_type": "markdown",
   "id": "db5a81f2-be77-4af5-8cb9-88e2c7c3e3a4",
   "metadata": {},
   "source": [
    "* List the common tools used in data science"
   ]
  },
  {
   "cell_type": "markdown",
   "id": "b2b22096-7b29-48de-aaf1-410e5a6c75b0",
   "metadata": {},
   "source": [
    "* Execute arithmetic operations using code in the jupyter notebook"
   ]
  },
  {
   "cell_type": "markdown",
   "id": "bce9b7fb-cac7-4068-accb-303d52c817b1",
   "metadata": {},
   "source": [
    "AUTHOR:\n",
    "EHI EMMANUELLLA ONOJA"
   ]
  },
  {
   "cell_type": "code",
   "execution_count": null,
   "id": "a2e75290-4ec9-4d91-a5d9-4b97c8ddfab0",
   "metadata": {},
   "outputs": [],
   "source": []
  }
 ],
 "metadata": {
  "kernelspec": {
   "display_name": "Python 3 (ipykernel)",
   "language": "python",
   "name": "python3"
  },
  "language_info": {
   "codemirror_mode": {
    "name": "ipython",
    "version": 3
   },
   "file_extension": ".py",
   "mimetype": "text/x-python",
   "name": "python",
   "nbconvert_exporter": "python",
   "pygments_lexer": "ipython3",
   "version": "3.11.9"
  }
 },
 "nbformat": 4,
 "nbformat_minor": 5
}
